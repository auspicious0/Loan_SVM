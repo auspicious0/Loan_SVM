{
  "nbformat": 4,
  "nbformat_minor": 0,
  "metadata": {
    "colab": {
      "provenance": [],
      "gpuType": "T4",
      "authorship_tag": "ABX9TyOLSb3JG8XzdWuM31lqx+Wf",
      "include_colab_link": true
    },
    "kernelspec": {
      "name": "ir",
      "display_name": "R"
    },
    "language_info": {
      "name": "R"
    },
    "accelerator": "GPU"
  },
  "cells": [
    {
      "cell_type": "markdown",
      "metadata": {
        "id": "view-in-github",
        "colab_type": "text"
      },
      "source": [
        "<a href=\"https://colab.research.google.com/github/auspicious0/Loan_SVM/blob/main/Loan_SVM.ipynb\" target=\"_parent\"><img src=\"https://colab.research.google.com/assets/colab-badge.svg\" alt=\"Open In Colab\"/></a>"
      ]
    },
    {
      "cell_type": "code",
      "execution_count": 1,
      "metadata": {
        "colab": {
          "base_uri": "https://localhost:8080/"
        },
        "id": "7R3PXbC4gYiw",
        "outputId": "85d48e1b-cd21-4582-99f0-9f706d4306ac"
      },
      "outputs": [
        {
          "output_type": "stream",
          "name": "stderr",
          "text": [
            "Installing packages into ‘/usr/local/lib/R/site-library’\n",
            "(as ‘lib’ is unspecified)\n",
            "\n",
            "also installing the dependencies ‘listenv’, ‘parallelly’, ‘future’, ‘globals’, ‘shape’, ‘future.apply’, ‘numDeriv’, ‘progressr’, ‘SQUAREM’, ‘diagram’, ‘lava’, ‘prodlim’, ‘iterators’, ‘Rcpp’, ‘clock’, ‘gower’, ‘hardhat’, ‘ipred’, ‘timeDate’, ‘checkmate’, ‘htmlwidgets’, ‘foreach’, ‘ModelMetrics’, ‘plyr’, ‘pROC’, ‘recipes’, ‘reshape2’, ‘proxy’, ‘gridExtra’, ‘htmlTable’, ‘viridis’, ‘Formula’\n",
            "\n",
            "\n",
            "── \u001b[1mAttaching core tidyverse packages\u001b[22m ──────────────────────── tidyverse 2.0.0 ──\n",
            "\u001b[32m✔\u001b[39m \u001b[34mdplyr    \u001b[39m 1.1.3     \u001b[32m✔\u001b[39m \u001b[34mreadr    \u001b[39m 2.1.4\n",
            "\u001b[32m✔\u001b[39m \u001b[34mforcats  \u001b[39m 1.0.0     \u001b[32m✔\u001b[39m \u001b[34mstringr  \u001b[39m 1.5.0\n",
            "\u001b[32m✔\u001b[39m \u001b[34mggplot2  \u001b[39m 3.4.4     \u001b[32m✔\u001b[39m \u001b[34mtibble   \u001b[39m 3.2.1\n",
            "\u001b[32m✔\u001b[39m \u001b[34mlubridate\u001b[39m 1.9.3     \u001b[32m✔\u001b[39m \u001b[34mtidyr    \u001b[39m 1.3.0\n",
            "\u001b[32m✔\u001b[39m \u001b[34mpurrr    \u001b[39m 1.0.2     \n",
            "── \u001b[1mConflicts\u001b[22m ────────────────────────────────────────── tidyverse_conflicts() ──\n",
            "\u001b[31m✖\u001b[39m \u001b[34mdplyr\u001b[39m::\u001b[32mfilter()\u001b[39m masks \u001b[34mstats\u001b[39m::filter()\n",
            "\u001b[31m✖\u001b[39m \u001b[34mdplyr\u001b[39m::\u001b[32mlag()\u001b[39m    masks \u001b[34mstats\u001b[39m::lag()\n",
            "\u001b[36mℹ\u001b[39m Use the conflicted package (\u001b[3m\u001b[34m<http://conflicted.r-lib.org/>\u001b[39m\u001b[23m) to force all conflicts to become errors\n",
            "\n",
            "Attaching package: ‘data.table’\n",
            "\n",
            "\n",
            "The following objects are masked from ‘package:lubridate’:\n",
            "\n",
            "    hour, isoweek, mday, minute, month, quarter, second, wday, week,\n",
            "    yday, year\n",
            "\n",
            "\n",
            "The following objects are masked from ‘package:dplyr’:\n",
            "\n",
            "    between, first, last\n",
            "\n",
            "\n",
            "The following object is masked from ‘package:purrr’:\n",
            "\n",
            "    transpose\n",
            "\n",
            "\n"
          ]
        }
      ],
      "source": [
        "#패키지 부착 및 출력 그래프의 크기 설정\n",
        "install.packages(c(\"tidyverse\", \"caret\", \"e1071\", \"Hmisc\"))\n",
        "library(tidyverse)\n",
        "library(data.table)\n",
        "\n",
        "library(repr)\n",
        "options(repr.plot.width = 7, repr.plot.height = 7)"
      ]
    },
    {
      "cell_type": "code",
      "source": [
        "#https://www.kaggle.com/datasets/sarahvch/predicting-who-pays-back-loans?select=loan_data.csv\n",
        "#https://drive.google.com/file/d/1SfB1iLRv7wyKsZLMxT-2rGwPnROv0BDl/view?usp=sharing\n",
        "system(\"gdown --id 1SfB1iLRv7wyKsZLMxT-2rGwPnROv0BDl\")\n",
        "system(\"ls\",TRUE)"
      ],
      "metadata": {
        "colab": {
          "base_uri": "https://localhost:8080/",
          "height": 34
        },
        "id": "UgiAymodgmo7",
        "outputId": "6cce8127-6f0a-4553-abf4-356b98b87ef2"
      },
      "execution_count": 46,
      "outputs": [
        {
          "output_type": "display_data",
          "data": {
            "text/html": [
              "<style>\n",
              ".list-inline {list-style: none; margin:0; padding: 0}\n",
              ".list-inline>li {display: inline-block}\n",
              ".list-inline>li:not(:last-child)::after {content: \"\\00b7\"; padding: 0 .5ex}\n",
              "</style>\n",
              "<ol class=list-inline><li>'loan_data.csv'</li><li>'sample_data'</li></ol>\n"
            ],
            "text/markdown": "1. 'loan_data.csv'\n2. 'sample_data'\n\n\n",
            "text/latex": "\\begin{enumerate*}\n\\item 'loan\\_data.csv'\n\\item 'sample\\_data'\n\\end{enumerate*}\n",
            "text/plain": [
              "[1] \"loan_data.csv\" \"sample_data\"  "
            ]
          },
          "metadata": {}
        }
      ]
    },
    {
      "cell_type": "markdown",
      "source": [
        "파일이 잘 읽혔습니다.데이터를 읽고 데이터 변수의 특징에 따라 전처리를 수행하겠습니다."
      ],
      "metadata": {
        "id": "trrIal_xje4P"
      }
    },
    {
      "cell_type": "code",
      "source": [
        "lo <- fread(\"loan_data.csv\",encoding = \"UTF-8\") %>% as_tibble()\n",
        "lo %>% show()\n",
        "str(lo)\n",
        "summary(lo)\n"
      ],
      "metadata": {
        "colab": {
          "base_uri": "https://localhost:8080/",
          "height": 1000
        },
        "id": "fMppUwdBjc1-",
        "outputId": "50dff195-893c-444b-8431-f647c68d49fe"
      },
      "execution_count": 53,
      "outputs": [
        {
          "output_type": "stream",
          "name": "stdout",
          "text": [
            "\u001b[90m# A tibble: 9,578 × 14\u001b[39m\n",
            "   credit.policy purpose         int.rate installment log.annual.inc   dti  fico\n",
            "           \u001b[3m\u001b[90m<int>\u001b[39m\u001b[23m \u001b[3m\u001b[90m<chr>\u001b[39m\u001b[23m              \u001b[3m\u001b[90m<dbl>\u001b[39m\u001b[23m       \u001b[3m\u001b[90m<dbl>\u001b[39m\u001b[23m          \u001b[3m\u001b[90m<dbl>\u001b[39m\u001b[23m \u001b[3m\u001b[90m<dbl>\u001b[39m\u001b[23m \u001b[3m\u001b[90m<int>\u001b[39m\u001b[23m\n",
            "\u001b[90m 1\u001b[39m             1 debt_consolida…   0.119        829.            11.4  19.5   737\n",
            "\u001b[90m 2\u001b[39m             1 credit_card       0.107        228.            11.1  14.3   707\n",
            "\u001b[90m 3\u001b[39m             1 debt_consolida…   0.136        367.            10.4  11.6   682\n",
            "\u001b[90m 4\u001b[39m             1 debt_consolida…   0.101        162.            11.4   8.1   712\n",
            "\u001b[90m 5\u001b[39m             1 credit_card       0.143        103.            11.3  15.0   667\n",
            "\u001b[90m 6\u001b[39m             1 credit_card       0.078\u001b[4m8\u001b[24m       125.            11.9  17.0   727\n",
            "\u001b[90m 7\u001b[39m             1 debt_consolida…   0.150        194.            10.7   4     667\n",
            "\u001b[90m 8\u001b[39m             1 all_other         0.111        131.            11.0  11.1   722\n",
            "\u001b[90m 9\u001b[39m             1 home_improveme…   0.113         87.2           11.4  17.2   682\n",
            "\u001b[90m10\u001b[39m             1 debt_consolida…   0.122         84.1           10.2  10     707\n",
            "\u001b[90m# ℹ 9,568 more rows\u001b[39m\n",
            "\u001b[90m# ℹ 7 more variables: days.with.cr.line <dbl>, revol.bal <int>,\u001b[39m\n",
            "\u001b[90m#   revol.util <dbl>, inq.last.6mths <int>, delinq.2yrs <int>, pub.rec <int>,\u001b[39m\n",
            "\u001b[90m#   not.fully.paid <int>\u001b[39m\n",
            "tibble [9,578 × 14] (S3: tbl_df/tbl/data.frame)\n",
            " $ credit.policy    : int [1:9578] 1 1 1 1 1 1 1 1 1 1 ...\n",
            " $ purpose          : chr [1:9578] \"debt_consolidation\" \"credit_card\" \"debt_consolidation\" \"debt_consolidation\" ...\n",
            " $ int.rate         : num [1:9578] 0.119 0.107 0.136 0.101 0.143 ...\n",
            " $ installment      : num [1:9578] 829 228 367 162 103 ...\n",
            " $ log.annual.inc   : num [1:9578] 11.4 11.1 10.4 11.4 11.3 ...\n",
            " $ dti              : num [1:9578] 19.5 14.3 11.6 8.1 15 ...\n",
            " $ fico             : int [1:9578] 737 707 682 712 667 727 667 722 682 707 ...\n",
            " $ days.with.cr.line: num [1:9578] 5640 2760 4710 2700 4066 ...\n",
            " $ revol.bal        : int [1:9578] 28854 33623 3511 33667 4740 50807 3839 24220 69909 5630 ...\n",
            " $ revol.util       : num [1:9578] 52.1 76.7 25.6 73.2 39.5 51 76.8 68.6 51.1 23 ...\n",
            " $ inq.last.6mths   : int [1:9578] 0 0 1 1 0 0 0 0 1 1 ...\n",
            " $ delinq.2yrs      : int [1:9578] 0 0 0 0 1 0 0 0 0 0 ...\n",
            " $ pub.rec          : int [1:9578] 0 0 0 0 0 0 1 0 0 0 ...\n",
            " $ not.fully.paid   : int [1:9578] 0 0 0 0 0 0 1 1 0 0 ...\n",
            " - attr(*, \".internal.selfref\")=<externalptr> \n"
          ]
        },
        {
          "output_type": "display_data",
          "data": {
            "text/plain": [
              " credit.policy     purpose             int.rate       installment    \n",
              " Min.   :0.000   Length:9578        Min.   :0.0600   Min.   : 15.67  \n",
              " 1st Qu.:1.000   Class :character   1st Qu.:0.1039   1st Qu.:163.77  \n",
              " Median :1.000   Mode  :character   Median :0.1221   Median :268.95  \n",
              " Mean   :0.805                      Mean   :0.1226   Mean   :319.09  \n",
              " 3rd Qu.:1.000                      3rd Qu.:0.1407   3rd Qu.:432.76  \n",
              " Max.   :1.000                      Max.   :0.2164   Max.   :940.14  \n",
              " log.annual.inc        dti              fico       days.with.cr.line\n",
              " Min.   : 7.548   Min.   : 0.000   Min.   :612.0   Min.   :  179    \n",
              " 1st Qu.:10.558   1st Qu.: 7.213   1st Qu.:682.0   1st Qu.: 2820    \n",
              " Median :10.929   Median :12.665   Median :707.0   Median : 4140    \n",
              " Mean   :10.932   Mean   :12.607   Mean   :710.8   Mean   : 4561    \n",
              " 3rd Qu.:11.291   3rd Qu.:17.950   3rd Qu.:737.0   3rd Qu.: 5730    \n",
              " Max.   :14.528   Max.   :29.960   Max.   :827.0   Max.   :17640    \n",
              "   revol.bal         revol.util    inq.last.6mths    delinq.2yrs     \n",
              " Min.   :      0   Min.   :  0.0   Min.   : 0.000   Min.   : 0.0000  \n",
              " 1st Qu.:   3187   1st Qu.: 22.6   1st Qu.: 0.000   1st Qu.: 0.0000  \n",
              " Median :   8596   Median : 46.3   Median : 1.000   Median : 0.0000  \n",
              " Mean   :  16914   Mean   : 46.8   Mean   : 1.577   Mean   : 0.1637  \n",
              " 3rd Qu.:  18250   3rd Qu.: 70.9   3rd Qu.: 2.000   3rd Qu.: 0.0000  \n",
              " Max.   :1207359   Max.   :119.0   Max.   :33.000   Max.   :13.0000  \n",
              "    pub.rec        not.fully.paid  \n",
              " Min.   :0.00000   Min.   :0.0000  \n",
              " 1st Qu.:0.00000   1st Qu.:0.0000  \n",
              " Median :0.00000   Median :0.0000  \n",
              " Mean   :0.06212   Mean   :0.1601  \n",
              " 3rd Qu.:0.00000   3rd Qu.:0.0000  \n",
              " Max.   :5.00000   Max.   :1.0000  "
            ]
          },
          "metadata": {}
        }
      ]
    },
    {
      "cell_type": "markdown",
      "source": [
        "결측값은 없습니다.\n",
        "\n",
        "우선 정수형 변수들 중 min 값이 0, max값이 5이하인 변수들을 unique()를 통해 factor형으로 변환이 가능한 변수인지 알아보겠습니다.\n",
        "\n",
        "문자형 변수(purpose)와 not.fully.faid(반응, 종속변수) 역시 factor형으로 변환 가능한 변수인지 살피겠습니다."
      ],
      "metadata": {
        "id": "p5tNcqL0lEj6"
      }
    },
    {
      "cell_type": "code",
      "source": [
        "lo$credit.policy %>% unique()\n",
        "lo$purpose %>% unique()\n",
        "lo$pub.rec %>% unique()\n",
        "lo$not.fully.paid %>% unique()"
      ],
      "metadata": {
        "colab": {
          "base_uri": "https://localhost:8080/",
          "height": 104
        },
        "id": "Oo4M8gPBjuiA",
        "outputId": "57f67883-4a5a-4c7e-c57b-477d5b87d92d"
      },
      "execution_count": 54,
      "outputs": [
        {
          "output_type": "display_data",
          "data": {
            "text/html": [
              "<style>\n",
              ".list-inline {list-style: none; margin:0; padding: 0}\n",
              ".list-inline>li {display: inline-block}\n",
              ".list-inline>li:not(:last-child)::after {content: \"\\00b7\"; padding: 0 .5ex}\n",
              "</style>\n",
              "<ol class=list-inline><li>1</li><li>0</li></ol>\n"
            ],
            "text/markdown": "1. 1\n2. 0\n\n\n",
            "text/latex": "\\begin{enumerate*}\n\\item 1\n\\item 0\n\\end{enumerate*}\n",
            "text/plain": [
              "[1] 1 0"
            ]
          },
          "metadata": {}
        },
        {
          "output_type": "display_data",
          "data": {
            "text/html": [
              "<style>\n",
              ".list-inline {list-style: none; margin:0; padding: 0}\n",
              ".list-inline>li {display: inline-block}\n",
              ".list-inline>li:not(:last-child)::after {content: \"\\00b7\"; padding: 0 .5ex}\n",
              "</style>\n",
              "<ol class=list-inline><li>'debt_consolidation'</li><li>'credit_card'</li><li>'all_other'</li><li>'home_improvement'</li><li>'small_business'</li><li>'major_purchase'</li><li>'educational'</li></ol>\n"
            ],
            "text/markdown": "1. 'debt_consolidation'\n2. 'credit_card'\n3. 'all_other'\n4. 'home_improvement'\n5. 'small_business'\n6. 'major_purchase'\n7. 'educational'\n\n\n",
            "text/latex": "\\begin{enumerate*}\n\\item 'debt\\_consolidation'\n\\item 'credit\\_card'\n\\item 'all\\_other'\n\\item 'home\\_improvement'\n\\item 'small\\_business'\n\\item 'major\\_purchase'\n\\item 'educational'\n\\end{enumerate*}\n",
            "text/plain": [
              "[1] \"debt_consolidation\" \"credit_card\"        \"all_other\"         \n",
              "[4] \"home_improvement\"   \"small_business\"     \"major_purchase\"    \n",
              "[7] \"educational\"       "
            ]
          },
          "metadata": {}
        },
        {
          "output_type": "display_data",
          "data": {
            "text/html": [
              "<style>\n",
              ".list-inline {list-style: none; margin:0; padding: 0}\n",
              ".list-inline>li {display: inline-block}\n",
              ".list-inline>li:not(:last-child)::after {content: \"\\00b7\"; padding: 0 .5ex}\n",
              "</style>\n",
              "<ol class=list-inline><li>0</li><li>1</li><li>2</li><li>3</li><li>4</li><li>5</li></ol>\n"
            ],
            "text/markdown": "1. 0\n2. 1\n3. 2\n4. 3\n5. 4\n6. 5\n\n\n",
            "text/latex": "\\begin{enumerate*}\n\\item 0\n\\item 1\n\\item 2\n\\item 3\n\\item 4\n\\item 5\n\\end{enumerate*}\n",
            "text/plain": [
              "[1] 0 1 2 3 4 5"
            ]
          },
          "metadata": {}
        },
        {
          "output_type": "display_data",
          "data": {
            "text/html": [
              "<style>\n",
              ".list-inline {list-style: none; margin:0; padding: 0}\n",
              ".list-inline>li {display: inline-block}\n",
              ".list-inline>li:not(:last-child)::after {content: \"\\00b7\"; padding: 0 .5ex}\n",
              "</style>\n",
              "<ol class=list-inline><li>0</li><li>1</li></ol>\n"
            ],
            "text/markdown": "1. 0\n2. 1\n\n\n",
            "text/latex": "\\begin{enumerate*}\n\\item 0\n\\item 1\n\\end{enumerate*}\n",
            "text/plain": [
              "[1] 0 1"
            ]
          },
          "metadata": {}
        }
      ]
    },
    {
      "cell_type": "markdown",
      "source": [
        "위 네개의 변수 (credit.policy, purpose, pub.rec, not.fully.paid)는 factor형으로 변환하겠습니다.\n",
        "\n",
        "또한 결측값은 앞서 살펴본 대로 결측값은 없기 때문에 이상값 처리를 진행하겠습니다."
      ],
      "metadata": {
        "id": "SujZi9Znmlho"
      }
    },
    {
      "cell_type": "code",
      "source": [
        "lo <- lo %>%\n",
        "  mutate_at(c(\"credit.policy\", \"purpose\", \"pub.rec\", \"not.fully.paid\"),factor)\n",
        "lo %>% str()"
      ],
      "metadata": {
        "colab": {
          "base_uri": "https://localhost:8080/"
        },
        "id": "0xpefb1bkq1a",
        "outputId": "48a381a7-8695-4fd9-e71e-1b5ee6e25ea2"
      },
      "execution_count": 55,
      "outputs": [
        {
          "output_type": "stream",
          "name": "stdout",
          "text": [
            "tibble [9,578 × 14] (S3: tbl_df/tbl/data.frame)\n",
            " $ credit.policy    : Factor w/ 2 levels \"0\",\"1\": 2 2 2 2 2 2 2 2 2 2 ...\n",
            " $ purpose          : Factor w/ 7 levels \"all_other\",\"credit_card\",..: 3 2 3 3 2 2 3 1 5 3 ...\n",
            " $ int.rate         : num [1:9578] 0.119 0.107 0.136 0.101 0.143 ...\n",
            " $ installment      : num [1:9578] 829 228 367 162 103 ...\n",
            " $ log.annual.inc   : num [1:9578] 11.4 11.1 10.4 11.4 11.3 ...\n",
            " $ dti              : num [1:9578] 19.5 14.3 11.6 8.1 15 ...\n",
            " $ fico             : int [1:9578] 737 707 682 712 667 727 667 722 682 707 ...\n",
            " $ days.with.cr.line: num [1:9578] 5640 2760 4710 2700 4066 ...\n",
            " $ revol.bal        : int [1:9578] 28854 33623 3511 33667 4740 50807 3839 24220 69909 5630 ...\n",
            " $ revol.util       : num [1:9578] 52.1 76.7 25.6 73.2 39.5 51 76.8 68.6 51.1 23 ...\n",
            " $ inq.last.6mths   : int [1:9578] 0 0 1 1 0 0 0 0 1 1 ...\n",
            " $ delinq.2yrs      : int [1:9578] 0 0 0 0 1 0 0 0 0 0 ...\n",
            " $ pub.rec          : Factor w/ 6 levels \"0\",\"1\",\"2\",\"3\",..: 1 1 1 1 1 1 2 1 1 1 ...\n",
            " $ not.fully.paid   : Factor w/ 2 levels \"0\",\"1\": 1 1 1 1 1 1 2 2 1 1 ...\n",
            " - attr(*, \".internal.selfref\")=<externalptr> \n"
          ]
        }
      ]
    },
    {
      "cell_type": "code",
      "source": [
        "# 이상치 및 결측값 처리 함수\n",
        "\n",
        "calculate_outliers <- function(data, column_name) {\n",
        "  iqr_value <- IQR(data[[column_name]])\n",
        "  upper_limit <- summary(data[[column_name]])[5] + 1.5 * iqr_value\n",
        "  lower_limit <- summary(data[[column_name]])[2] - 1.5 * iqr_value\n",
        "\n",
        "  data[[column_name]] <- ifelse(data[[column_name]] < lower_limit | data[[column_name]] > upper_limit, NA, data[[column_name]])\n",
        "\n",
        "  return(data)\n",
        "}\n",
        "table(is.na(lo))\n",
        "# boxplot 을 그리기 위해 factor형 변수를 삭제해 lo_에 저장하겠습니다.\n",
        "lo_ <- lo %>% select(-credit.policy, -purpose, -pub.rec, -not.fully.paid)\n",
        "boxplot(lo_)\n",
        "# 이상치 및 결측값 처리 및 결과에 대한 상자그림 그리기\n",
        "lo <- calculate_outliers(lo, \"int.rate\")\n",
        "lo <- calculate_outliers(lo, \"installment\")\n",
        "lo <- calculate_outliers(lo, \"log.annual.inc\")\n",
        "lo <- calculate_outliers(lo, \"dti\")\n",
        "lo <- calculate_outliers(lo, \"fico\")\n",
        "lo <- calculate_outliers(lo, \"days.with.cr.line\")\n",
        "lo <- calculate_outliers(lo, \"revol.bal\")\n",
        "lo <- calculate_outliers(lo, \"revol.util\")\n",
        "lo <- calculate_outliers(lo, \"inq.last.6mths\")\n",
        "lo <- calculate_outliers(lo, \"delinq.2yrs\")\n",
        "\n",
        "table(is.na(lo))\n",
        "lo <- na.omit(lo)\n",
        "table(is.na(lo))\n",
        "lo_ <- lo %>% select(-credit.policy, -purpose, -pub.rec, -not.fully.paid)\n",
        "boxplot(lo_)\n"
      ],
      "metadata": {
        "colab": {
          "base_uri": "https://localhost:8080/",
          "height": 1000
        },
        "id": "X_LJlq16nEB7",
        "outputId": "59cd0f41-16c8-4054-f402-c89082f40c94"
      },
      "execution_count": 56,
      "outputs": [
        {
          "output_type": "display_data",
          "data": {
            "text/plain": [
              "\n",
              " FALSE \n",
              "134092 "
            ]
          },
          "metadata": {}
        },
        {
          "output_type": "display_data",
          "data": {
            "text/plain": [
              "\n",
              " FALSE   TRUE \n",
              "130837   3255 "
            ]
          },
          "metadata": {}
        },
        {
          "output_type": "display_data",
          "data": {
            "text/plain": [
              "\n",
              "FALSE \n",
              "96040 "
            ]
          },
          "metadata": {}
        },
        {
          "output_type": "display_data",
          "data": {
            "text/plain": [
              "plot without title"
            ],
            "image/png": "[encoded data removed]"
          },
          "metadata": {
            "image/png": {
              "width": 420,
              "height": 420
            }
          }
        },
        {
          "output_type": "display_data",
          "data": {
            "text/plain": [
              "plot without title"
            ],
            "image/png": "[encoded data removed]"
          },
          "metadata": {
            "image/png": {
              "width": 420,
              "height": 420
            }
          }
        }
      ]
    },
    {
      "cell_type": "markdown",
      "source": [
        "이상값 처리를 완료하였습니다.\n",
        "\n",
        "무작위로 데이터를 분리하지 않고 반응변수를 중심으로 8:2로 나누기 위해 caret::createDataPartition을 사용하겠습니다."
      ],
      "metadata": {
        "id": "47R17DOmrrZS"
      }
    },
    {
      "cell_type": "code",
      "source": [
        "library(caret)\n",
        "index <- caret::createDataPartition(y = lo$not.fully.paid, p = 0.8, list = FALSE)\n",
        "train <- lo[index,]\n",
        "test <- lo[-index,]"
      ],
      "metadata": {
        "colab": {
          "base_uri": "https://localhost:8080/"
        },
        "id": "upA21JowoVIz",
        "outputId": "32d3ed61-debb-4744-df30-ede9a332dfbe"
      },
      "execution_count": 59,
      "outputs": [
        {
          "output_type": "stream",
          "name": "stderr",
          "text": [
            "Loading required package: lattice\n",
            "\n",
            "\n",
            "Attaching package: ‘caret’\n",
            "\n",
            "\n",
            "The following object is masked from ‘package:purrr’:\n",
            "\n",
            "    lift\n",
            "\n",
            "\n"
          ]
        }
      ]
    },
    {
      "cell_type": "code",
      "source": [
        "train %>% show()\n",
        "test%>% show()"
      ],
      "metadata": {
        "colab": {
          "base_uri": "https://localhost:8080/"
        },
        "id": "Lp4azzwXqQbM",
        "outputId": "d57529b6-adee-4095-83a2-5804952ca3c6"
      },
      "execution_count": 60,
      "outputs": [
        {
          "output_type": "stream",
          "name": "stdout",
          "text": [
            "\u001b[90m# A tibble: 5,489 × 14\u001b[39m\n",
            "   credit.policy purpose         int.rate installment log.annual.inc   dti  fico\n",
            "   \u001b[3m\u001b[90m<fct>\u001b[39m\u001b[23m         \u001b[3m\u001b[90m<fct>\u001b[39m\u001b[23m              \u001b[3m\u001b[90m<dbl>\u001b[39m\u001b[23m       \u001b[3m\u001b[90m<dbl>\u001b[39m\u001b[23m          \u001b[3m\u001b[90m<dbl>\u001b[39m\u001b[23m \u001b[3m\u001b[90m<dbl>\u001b[39m\u001b[23m \u001b[3m\u001b[90m<int>\u001b[39m\u001b[23m\n",
            "\u001b[90m 1\u001b[39m 1             debt_consolida…   0.119        829.           11.4  19.5    737\n",
            "\u001b[90m 2\u001b[39m 1             credit_card       0.107        228.           11.1  14.3    707\n",
            "\u001b[90m 3\u001b[39m 1             debt_consolida…   0.136        367.           10.4  11.6    682\n",
            "\u001b[90m 4\u001b[39m 1             debt_consolida…   0.101        162.           11.4   8.1    712\n",
            "\u001b[90m 5\u001b[39m 1             debt_consolida…   0.150        194.           10.7   4      667\n",
            "\u001b[90m 6\u001b[39m 1             all_other         0.111        131.           11.0  11.1    722\n",
            "\u001b[90m 7\u001b[39m 1             debt_consolida…   0.122         84.1          10.2  10      707\n",
            "\u001b[90m 8\u001b[39m 1             debt_consolida…   0.135        360.           10.4  22.1    677\n",
            "\u001b[90m 9\u001b[39m 1             debt_consolida…   0.086\u001b[4m3\u001b[24m       210.            9.49  9.73   727\n",
            "\u001b[90m10\u001b[39m 1             major_purchase    0.110        328.           10.7  13.0    702\n",
            "\u001b[90m# ℹ 5,479 more rows\u001b[39m\n",
            "\u001b[90m# ℹ 7 more variables: days.with.cr.line <dbl>, revol.bal <int>,\u001b[39m\n",
            "\u001b[90m#   revol.util <dbl>, inq.last.6mths <int>, delinq.2yrs <int>, pub.rec <fct>,\u001b[39m\n",
            "\u001b[90m#   not.fully.paid <fct>\u001b[39m\n",
            "\u001b[90m# A tibble: 1,371 × 14\u001b[39m\n",
            "   credit.policy purpose         int.rate installment log.annual.inc   dti  fico\n",
            "   \u001b[3m\u001b[90m<fct>\u001b[39m\u001b[23m         \u001b[3m\u001b[90m<fct>\u001b[39m\u001b[23m              \u001b[3m\u001b[90m<dbl>\u001b[39m\u001b[23m       \u001b[3m\u001b[90m<dbl>\u001b[39m\u001b[23m          \u001b[3m\u001b[90m<dbl>\u001b[39m\u001b[23m \u001b[3m\u001b[90m<dbl>\u001b[39m\u001b[23m \u001b[3m\u001b[90m<int>\u001b[39m\u001b[23m\n",
            "\u001b[90m 1\u001b[39m 1             debt_consolida…   0.085\u001b[4m9\u001b[24m       316.           10.9  15.5    767\n",
            "\u001b[90m 2\u001b[39m 1             all_other         0.08         188.           11.2  16.1    772\n",
            "\u001b[90m 3\u001b[39m 1             debt_consolida…   0.123        320.           11.3   8.8    672\n",
            "\u001b[90m 4\u001b[39m 1             all_other         0.074\u001b[4m3\u001b[24m       155.           11.1   0.28   802\n",
            "\u001b[90m 5\u001b[39m 1             credit_card       0.112        164.           11.3   1.21   672\n",
            "\u001b[90m 6\u001b[39m 1             all_other         0.083\u001b[4m8\u001b[24m       161.           10.4  14.8    772\n",
            "\u001b[90m 7\u001b[39m 1             credit_card       0.090\u001b[4m1\u001b[24m       159.           11.2   9.96   722\n",
            "\u001b[90m 8\u001b[39m 1             all_other         0.103        113.            9.90  1.5    682\n",
            "\u001b[90m 9\u001b[39m 1             credit_card       0.074\u001b[4m3\u001b[24m       155.           11.2   4.56   812\n",
            "\u001b[90m10\u001b[39m 1             home_improveme…   0.096\u001b[4m4\u001b[24m        80.3          11.2  20      772\n",
            "\u001b[90m# ℹ 1,361 more rows\u001b[39m\n",
            "\u001b[90m# ℹ 7 more variables: days.with.cr.line <dbl>, revol.bal <int>,\u001b[39m\n",
            "\u001b[90m#   revol.util <dbl>, inq.last.6mths <int>, delinq.2yrs <int>, pub.rec <fct>,\u001b[39m\n",
            "\u001b[90m#   not.fully.paid <fct>\u001b[39m\n"
          ]
        }
      ]
    },
    {
      "cell_type": "markdown",
      "source": [
        "데이터가 잘 분할 되었습니다."
      ],
      "metadata": {
        "id": "FdrFtUPAsKym"
      }
    },
    {
      "cell_type": "code",
      "source": [
        "#test 데이터는"
      ],
      "metadata": {
        "id": "jpOFDgk1sIX7"
      },
      "execution_count": null,
      "outputs": []
    }
  ]
}